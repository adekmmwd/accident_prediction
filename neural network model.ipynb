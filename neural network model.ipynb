{
 "cells": [
  {
   "cell_type": "code",
   "id": "initial_id",
   "metadata": {
    "collapsed": true,
    "ExecuteTime": {
     "end_time": "2025-10-19T17:11:31.984255Z",
     "start_time": "2025-10-19T17:11:31.941261Z"
    }
   },
   "source": [
    "\n",
    "import pandas as pd\n",
    "import numpy as np\n",
    "import torch\n",
    "from torch import nn\n",
    "from sklearn.model_selection import train_test_split\n",
    "from sklearn.preprocessing import StandardScaler, OneHotEncoder\n",
    "from sklearn.compose import ColumnTransformer\n",
    "import matplotlib.pyplot as plt\n",
    "\n"
   ],
   "outputs": [],
   "execution_count": 7
  },
  {
   "metadata": {
    "ExecuteTime": {
     "end_time": "2025-10-19T18:09:34.060855Z",
     "start_time": "2025-10-19T18:09:33.730776Z"
    }
   },
   "cell_type": "code",
   "source": "",
   "id": "c0a27a3a18450f1a",
   "outputs": [],
   "execution_count": 9
  },
  {
   "metadata": {
    "ExecuteTime": {
     "end_time": "2025-10-17T12:50:03.036020Z",
     "start_time": "2025-10-17T12:50:02.002169Z"
    }
   },
   "cell_type": "code",
   "source": [
    "# ======================\n",
    "# 3️⃣ PREPROCESSING\n",
    "# ======================\n",
    "X = train_df.drop(\"accident_risk\", axis=1)\n",
    "y = train_df[\"accident_risk\"].values\n",
    "\n",
    "cat_cols = X.select_dtypes(include=[\"object\", \"bool\"]).columns\n",
    "num_cols = X.select_dtypes(include=[\"float64\", \"int64\"]).columns\n",
    "\n",
    "preprocessor = ColumnTransformer([\n",
    "    (\"num\", StandardScaler(), num_cols),\n",
    "    (\"cat\", OneHotEncoder(handle_unknown=\"ignore\"), cat_cols)\n",
    "])\n",
    "\n",
    "X_processed = preprocessor.fit_transform(X)\n",
    "\n",
    "X_train, X_val, y_train, y_val = train_test_split(\n",
    "    X_processed, y, test_size=0.2, random_state=42\n",
    ")"
   ],
   "id": "4286e341565619eb",
   "outputs": [],
   "execution_count": 10
  },
  {
   "metadata": {
    "ExecuteTime": {
     "end_time": "2025-10-17T12:50:03.531619Z",
     "start_time": "2025-10-17T12:50:03.502862Z"
    }
   },
   "cell_type": "code",
   "source": [
    "# ======================\n",
    "# 4️⃣ MOVE EVERYTHING TO GPU\n",
    "# ======================\n",
    "device = torch.device(\"cuda\" if torch.cuda.is_available() else \"cpu\")\n",
    "print(f\"🔥 Using device: {device}\")\n",
    "\n",
    "X_train = torch.tensor(X_train, dtype=torch.float32, device=device)\n",
    "y_train = torch.tensor(y_train, dtype=torch.float32, device=device).view(-1, 1)\n",
    "X_val = torch.tensor(X_val, dtype=torch.float32, device=device)\n",
    "y_val = torch.tensor(y_val, dtype=torch.float32, device=device).view(-1, 1)\n"
   ],
   "id": "a6b63e9ea8c0ffd",
   "outputs": [
    {
     "name": "stdout",
     "output_type": "stream",
     "text": [
      "🔥 Using device: cuda\n"
     ]
    }
   ],
   "execution_count": 11
  },
  {
   "metadata": {
    "ExecuteTime": {
     "end_time": "2025-10-17T13:06:49.751693Z",
     "start_time": "2025-10-17T13:06:49.748792Z"
    }
   },
   "cell_type": "code",
   "source": [
    "class AccidentRiskModel(nn.Module):\n",
    "    def __init__(self, input_dim):\n",
    "        super().__init__()\n",
    "        self.network = nn.Sequential(\n",
    "            nn.Linear(input_dim, 512),\n",
    "            nn.ReLU(),\n",
    "            nn.Dropout(0.1),\n",
    "            nn.Linear(512, 256),\n",
    "            nn.ReLU(),\n",
    "            nn.Dropout(0.1),\n",
    "            nn.Linear(256, 128),\n",
    "            nn.ReLU(),\n",
    "            nn.Linear(128, 64),\n",
    "            nn.ReLU(),\n",
    "            nn.Linear(64, 1)\n",
    "        )\n",
    "\n",
    "    def forward(self, x):\n",
    "        return self.network(x)\n"
   ],
   "id": "274b1fc838d5108d",
   "outputs": [],
   "execution_count": 33
  },
  {
   "metadata": {
    "ExecuteTime": {
     "end_time": "2025-10-17T13:07:31.469746Z",
     "start_time": "2025-10-17T13:06:53.346187Z"
    }
   },
   "cell_type": "code",
   "source": [
    "# ======================\n",
    "# 6️⃣ TRAIN LOOP (GPU SHUFFLE)\n",
    "# ======================\n",
    "num_epochs = 100\n",
    "batch_size = 1024\n",
    "train_rmse, val_rmse = [], []\n",
    "\n",
    "for epoch in range(num_epochs):\n",
    "    model.train()\n",
    "\n",
    "    # ---- GPU SHUFFLE ----\n",
    "    perm = torch.randperm(X_train.size(0), device=device)\n",
    "    X_train = X_train[perm]\n",
    "    y_train = y_train[perm]\n",
    "\n",
    "    total_loss = 0.0\n",
    "    for i in range(0, X_train.size(0), batch_size):\n",
    "        X_batch = X_train[i:i+batch_size]\n",
    "        y_batch = y_train[i:i+batch_size]\n",
    "\n",
    "        optimizer.zero_grad()\n",
    "        preds = model(X_batch)\n",
    "        loss = criterion(preds, y_batch)\n",
    "        loss.backward()\n",
    "        optimizer.step()\n",
    "        total_loss += loss.item() * X_batch.size(0)\n",
    "\n",
    "    train_loss = np.sqrt(total_loss / X_train.size(0))\n",
    "\n",
    "    # ---- VALIDATION ----\n",
    "    model.eval()\n",
    "    with torch.no_grad():\n",
    "        preds = model(X_val)\n",
    "        val_loss = criterion(preds, y_val).item()\n",
    "        val_rmse_epoch = np.sqrt(val_loss)\n",
    "\n",
    "    train_rmse.append(train_loss)\n",
    "    val_rmse.append(val_rmse_epoch)\n",
    "\n",
    "    print(f\"Epoch {epoch+1}/{num_epochs} | Train RMSE: {train_loss:.4f} | Val RMSE: {val_rmse_epoch:.4f}\")\n"
   ],
   "id": "9d520ea3b6465cb7",
   "outputs": [
    {
     "name": "stdout",
     "output_type": "stream",
     "text": [
      "Epoch 1/100 | Train RMSE: 0.0575 | Val RMSE: 0.0573\n",
      "Epoch 2/100 | Train RMSE: 0.0576 | Val RMSE: 0.0571\n",
      "Epoch 3/100 | Train RMSE: 0.0575 | Val RMSE: 0.0572\n",
      "Epoch 4/100 | Train RMSE: 0.0575 | Val RMSE: 0.0572\n",
      "Epoch 5/100 | Train RMSE: 0.0575 | Val RMSE: 0.0572\n",
      "Epoch 6/100 | Train RMSE: 0.0575 | Val RMSE: 0.0572\n",
      "Epoch 7/100 | Train RMSE: 0.0575 | Val RMSE: 0.0571\n",
      "Epoch 8/100 | Train RMSE: 0.0575 | Val RMSE: 0.0573\n",
      "Epoch 9/100 | Train RMSE: 0.0575 | Val RMSE: 0.0572\n",
      "Epoch 10/100 | Train RMSE: 0.0576 | Val RMSE: 0.0571\n",
      "Epoch 11/100 | Train RMSE: 0.0575 | Val RMSE: 0.0573\n",
      "Epoch 12/100 | Train RMSE: 0.0575 | Val RMSE: 0.0571\n",
      "Epoch 13/100 | Train RMSE: 0.0575 | Val RMSE: 0.0571\n",
      "Epoch 14/100 | Train RMSE: 0.0575 | Val RMSE: 0.0571\n",
      "Epoch 15/100 | Train RMSE: 0.0575 | Val RMSE: 0.0571\n",
      "Epoch 16/100 | Train RMSE: 0.0575 | Val RMSE: 0.0571\n",
      "Epoch 17/100 | Train RMSE: 0.0575 | Val RMSE: 0.0572\n",
      "Epoch 18/100 | Train RMSE: 0.0575 | Val RMSE: 0.0573\n",
      "Epoch 19/100 | Train RMSE: 0.0575 | Val RMSE: 0.0573\n",
      "Epoch 20/100 | Train RMSE: 0.0575 | Val RMSE: 0.0573\n",
      "Epoch 21/100 | Train RMSE: 0.0575 | Val RMSE: 0.0571\n",
      "Epoch 22/100 | Train RMSE: 0.0575 | Val RMSE: 0.0572\n",
      "Epoch 23/100 | Train RMSE: 0.0575 | Val RMSE: 0.0572\n",
      "Epoch 24/100 | Train RMSE: 0.0575 | Val RMSE: 0.0571\n",
      "Epoch 25/100 | Train RMSE: 0.0575 | Val RMSE: 0.0572\n",
      "Epoch 26/100 | Train RMSE: 0.0575 | Val RMSE: 0.0571\n",
      "Epoch 27/100 | Train RMSE: 0.0575 | Val RMSE: 0.0571\n",
      "Epoch 28/100 | Train RMSE: 0.0575 | Val RMSE: 0.0572\n",
      "Epoch 29/100 | Train RMSE: 0.0575 | Val RMSE: 0.0571\n",
      "Epoch 30/100 | Train RMSE: 0.0575 | Val RMSE: 0.0571\n",
      "Epoch 31/100 | Train RMSE: 0.0575 | Val RMSE: 0.0572\n",
      "Epoch 32/100 | Train RMSE: 0.0575 | Val RMSE: 0.0572\n",
      "Epoch 33/100 | Train RMSE: 0.0576 | Val RMSE: 0.0571\n",
      "Epoch 34/100 | Train RMSE: 0.0575 | Val RMSE: 0.0572\n",
      "Epoch 35/100 | Train RMSE: 0.0575 | Val RMSE: 0.0575\n",
      "Epoch 36/100 | Train RMSE: 0.0575 | Val RMSE: 0.0571\n",
      "Epoch 37/100 | Train RMSE: 0.0575 | Val RMSE: 0.0572\n",
      "Epoch 38/100 | Train RMSE: 0.0575 | Val RMSE: 0.0571\n",
      "Epoch 39/100 | Train RMSE: 0.0575 | Val RMSE: 0.0571\n",
      "Epoch 40/100 | Train RMSE: 0.0576 | Val RMSE: 0.0571\n",
      "Epoch 41/100 | Train RMSE: 0.0575 | Val RMSE: 0.0571\n",
      "Epoch 42/100 | Train RMSE: 0.0575 | Val RMSE: 0.0572\n",
      "Epoch 43/100 | Train RMSE: 0.0575 | Val RMSE: 0.0572\n",
      "Epoch 44/100 | Train RMSE: 0.0575 | Val RMSE: 0.0572\n",
      "Epoch 45/100 | Train RMSE: 0.0575 | Val RMSE: 0.0572\n",
      "Epoch 46/100 | Train RMSE: 0.0575 | Val RMSE: 0.0573\n",
      "Epoch 47/100 | Train RMSE: 0.0575 | Val RMSE: 0.0571\n",
      "Epoch 48/100 | Train RMSE: 0.0575 | Val RMSE: 0.0572\n",
      "Epoch 49/100 | Train RMSE: 0.0575 | Val RMSE: 0.0572\n",
      "Epoch 50/100 | Train RMSE: 0.0575 | Val RMSE: 0.0572\n",
      "Epoch 51/100 | Train RMSE: 0.0575 | Val RMSE: 0.0572\n",
      "Epoch 52/100 | Train RMSE: 0.0575 | Val RMSE: 0.0571\n",
      "Epoch 53/100 | Train RMSE: 0.0575 | Val RMSE: 0.0572\n",
      "Epoch 54/100 | Train RMSE: 0.0575 | Val RMSE: 0.0573\n",
      "Epoch 55/100 | Train RMSE: 0.0575 | Val RMSE: 0.0573\n",
      "Epoch 56/100 | Train RMSE: 0.0575 | Val RMSE: 0.0573\n",
      "Epoch 57/100 | Train RMSE: 0.0575 | Val RMSE: 0.0571\n",
      "Epoch 58/100 | Train RMSE: 0.0575 | Val RMSE: 0.0572\n",
      "Epoch 59/100 | Train RMSE: 0.0575 | Val RMSE: 0.0572\n",
      "Epoch 60/100 | Train RMSE: 0.0575 | Val RMSE: 0.0572\n",
      "Epoch 61/100 | Train RMSE: 0.0575 | Val RMSE: 0.0573\n",
      "Epoch 62/100 | Train RMSE: 0.0575 | Val RMSE: 0.0572\n",
      "Epoch 63/100 | Train RMSE: 0.0575 | Val RMSE: 0.0571\n",
      "Epoch 64/100 | Train RMSE: 0.0575 | Val RMSE: 0.0571\n",
      "Epoch 65/100 | Train RMSE: 0.0575 | Val RMSE: 0.0572\n",
      "Epoch 66/100 | Train RMSE: 0.0575 | Val RMSE: 0.0572\n",
      "Epoch 67/100 | Train RMSE: 0.0575 | Val RMSE: 0.0571\n",
      "Epoch 68/100 | Train RMSE: 0.0575 | Val RMSE: 0.0573\n",
      "Epoch 69/100 | Train RMSE: 0.0575 | Val RMSE: 0.0573\n",
      "Epoch 70/100 | Train RMSE: 0.0575 | Val RMSE: 0.0571\n",
      "Epoch 71/100 | Train RMSE: 0.0575 | Val RMSE: 0.0571\n",
      "Epoch 72/100 | Train RMSE: 0.0575 | Val RMSE: 0.0572\n",
      "Epoch 73/100 | Train RMSE: 0.0575 | Val RMSE: 0.0572\n",
      "Epoch 74/100 | Train RMSE: 0.0575 | Val RMSE: 0.0573\n",
      "Epoch 75/100 | Train RMSE: 0.0575 | Val RMSE: 0.0572\n",
      "Epoch 76/100 | Train RMSE: 0.0575 | Val RMSE: 0.0571\n",
      "Epoch 77/100 | Train RMSE: 0.0575 | Val RMSE: 0.0572\n",
      "Epoch 78/100 | Train RMSE: 0.0575 | Val RMSE: 0.0572\n",
      "Epoch 79/100 | Train RMSE: 0.0575 | Val RMSE: 0.0571\n",
      "Epoch 80/100 | Train RMSE: 0.0575 | Val RMSE: 0.0572\n",
      "Epoch 81/100 | Train RMSE: 0.0575 | Val RMSE: 0.0572\n",
      "Epoch 82/100 | Train RMSE: 0.0575 | Val RMSE: 0.0571\n",
      "Epoch 83/100 | Train RMSE: 0.0575 | Val RMSE: 0.0572\n",
      "Epoch 84/100 | Train RMSE: 0.0575 | Val RMSE: 0.0571\n",
      "Epoch 85/100 | Train RMSE: 0.0575 | Val RMSE: 0.0572\n",
      "Epoch 86/100 | Train RMSE: 0.0575 | Val RMSE: 0.0573\n",
      "Epoch 87/100 | Train RMSE: 0.0575 | Val RMSE: 0.0572\n",
      "Epoch 88/100 | Train RMSE: 0.0575 | Val RMSE: 0.0572\n",
      "Epoch 89/100 | Train RMSE: 0.0575 | Val RMSE: 0.0572\n",
      "Epoch 90/100 | Train RMSE: 0.0575 | Val RMSE: 0.0573\n",
      "Epoch 91/100 | Train RMSE: 0.0576 | Val RMSE: 0.0572\n",
      "Epoch 92/100 | Train RMSE: 0.0575 | Val RMSE: 0.0573\n",
      "Epoch 93/100 | Train RMSE: 0.0575 | Val RMSE: 0.0572\n",
      "Epoch 94/100 | Train RMSE: 0.0575 | Val RMSE: 0.0571\n",
      "Epoch 95/100 | Train RMSE: 0.0575 | Val RMSE: 0.0572\n",
      "Epoch 96/100 | Train RMSE: 0.0575 | Val RMSE: 0.0572\n",
      "Epoch 97/100 | Train RMSE: 0.0575 | Val RMSE: 0.0572\n",
      "Epoch 98/100 | Train RMSE: 0.0575 | Val RMSE: 0.0574\n",
      "Epoch 99/100 | Train RMSE: 0.0575 | Val RMSE: 0.0572\n",
      "Epoch 100/100 | Train RMSE: 0.0575 | Val RMSE: 0.0575\n"
     ]
    }
   ],
   "execution_count": 34
  },
  {
   "metadata": {
    "ExecuteTime": {
     "end_time": "2025-10-17T13:00:38.613450Z",
     "start_time": "2025-10-17T13:00:38.496686Z"
    }
   },
   "cell_type": "code",
   "source": [
    "# ======================\n",
    "# 7️⃣ PLOT RMSE\n",
    "# ======================\n",
    "plt.figure(figsize=(8,5))\n",
    "plt.plot(train_rmse, label=\"Train RMSE\")\n",
    "plt.plot(val_rmse, label=\"Validation RMSE\")\n",
    "plt.xlabel(\"Epochs\")\n",
    "plt.ylabel(\"Root Mean Squared Error\")\n",
    "plt.title(\"Training vs Validation RMSE\")\n",
    "plt.legend()\n",
    "plt.grid(True)\n",
    "plt.show()\n",
    "\n",
    "# ======================\n",
    "# 8️⃣ SAVE MODEL\n",
    "# ======================\n",
    "torch.save(model.state_dict(), \"accident_risk_model_gpu.pth\")\n",
    "print(\"✅ Model saved successfully!\")"
   ],
   "id": "f14677296e203a17",
   "outputs": [
    {
     "data": {
      "text/plain": [
       "<Figure size 800x500 with 1 Axes>"
      ],
      "image/png": "[encoded data removed]"
     },
     "metadata": {},
     "output_type": "display_data",
     "jetTransient": {
      "display_id": null
     }
    },
    {
     "name": "stdout",
     "output_type": "stream",
     "text": [
      "✅ Model saved successfully!\n"
     ]
    }
   ],
   "execution_count": 24
  },
  {
   "metadata": {
    "ExecuteTime": {
     "end_time": "2025-10-17T13:04:41.706466Z",
     "start_time": "2025-10-17T13:04:41.173201Z"
    }
   },
   "cell_type": "code",
   "source": [
    "# ======================\n",
    "# 9️⃣ TEST PREDICTIONS\n",
    "# ======================\n",
    "test_df = pd.read_csv(\"/home/ahmad/kaggle/Accident prediction/test.csv\")\n",
    "\n",
    "test_df[\"speed_limit_curvature\"] = test_df[\"speed_limit\"] * test_df[\"curvature\"]\n",
    "test_df[\"speed_limit_num_lanes\"] = test_df[\"speed_limit\"] * test_df[\"num_lanes\"]\n",
    "test_df[\"curvature_num_lanes\"] = test_df[\"curvature\"] * test_df[\"num_lanes\"]\n",
    "test_df[\"lighting_weather\"] = test_df[\"lighting\"].astype(str) + \"_\" + test_df[\"weather\"].astype(str)\n",
    "test_df[\"lighting_numeric\"] = test_df[\"lighting\"].astype(\"category\").cat.codes\n",
    "test_df[\"lighting_curvature\"] = test_df[\"lighting_numeric\"] * test_df[\"curvature\"]\n",
    "\n",
    "# --- 🧩 ADD YOUR NEW FEATURE HERE AS WELL (same as train) ---\n",
    "test_df[\"school_season\"] = test_df[\"school_season\"].astype(int)\n",
    "test_df[\"holiday\"] = test_df[\"holiday\"].astype(int)\n",
    "time_of_day_dummies = pd.get_dummies(test_df[\"time_of_day\"], prefix=\"time_of_day\")\n",
    "for col in time_of_day_dummies.columns:\n",
    "    test_df[f\"{col}_x_schoolseason_x_holiday\"] = (\n",
    "        test_df[\"school_season\"] * test_df[\"holiday\"] * time_of_day_dummies[col]\n",
    "    )\n",
    "\n",
    "# --- Transform and predict ---\n",
    "X_test = preprocessor.transform(test_df)\n",
    "X_test = torch.tensor(X_test, dtype=torch.float32, device=device)\n",
    "\n",
    "model.eval()\n",
    "with torch.no_grad():\n",
    "    preds = model(X_test).cpu().numpy().flatten()\n",
    "\n",
    "submission = pd.DataFrame({\n",
    "    \"id\": test_df[\"id\"],\n",
    "    \"predicted_risk\": preds\n",
    "})\n",
    "\n",
    "# --- 💾 Choose output path ---\n",
    "output_path = \"/home/ahmad/kaggle/Accident prediction/submission3.csv\"\n",
    "submission.to_csv(output_path, index=False)\n",
    "print(f\"✅ Predictions saved to {output_path}\")"
   ],
   "id": "6c36d0a4ec2284dc",
   "outputs": [
    {
     "name": "stdout",
     "output_type": "stream",
     "text": [
      "✅ Predictions saved to /home/ahmad/kaggle/Accident prediction/submission3.csv\n"
     ]
    }
   ],
   "execution_count": 30
  },
  {
   "metadata": {},
   "cell_type": "code",
   "outputs": [],
   "execution_count": null,
   "source": "",
   "id": "b22650cc1b82c35a"
  }
 ],
 "metadata": {
  "kernelspec": {
   "display_name": "Python 3",
   "language": "python",
   "name": "python3"
  },
  "language_info": {
   "codemirror_mode": {
    "name": "ipython",
    "version": 2
   },
   "file_extension": ".py",
   "mimetype": "text/x-python",
   "name": "python",
   "nbconvert_exporter": "python",
   "pygments_lexer": "ipython2",
   "version": "2.7.6"
  }
 },
 "nbformat": 4,
 "nbformat_minor": 5
}
