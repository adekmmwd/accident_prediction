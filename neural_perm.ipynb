{
 "cells": [
  {
   "cell_type": "code",
   "execution_count": null,
   "id": "initial_id",
   "metadata": {
    "collapsed": true
   },
   "outputs": [],
   "source": [
    ""
   ]
  },
  {
   "metadata": {
    "ExecuteTime": {
     "end_time": "2025-10-19T19:03:48.982671Z",
     "start_time": "2025-10-19T19:03:48.970904Z"
    }
   },
   "cell_type": "code",
   "source": [
    "import os\n",
    "import pandas as pd\n",
    "import numpy as np\n",
    "import torch\n",
    "import torch.nn as nn\n",
    "from sklearn.model_selection import train_test_split\n",
    "from sklearn.preprocessing import StandardScaler, OneHotEncoder\n",
    "from sklearn.compose import ColumnTransformer\n",
    "import matplotlib.pyplot as plt\n"
   ],
   "id": "b9b7a7be53c3929c",
   "outputs": [],
   "execution_count": 27
  },
  {
   "metadata": {
    "ExecuteTime": {
     "end_time": "2025-10-19T19:03:49.032063Z",
     "start_time": "2025-10-19T19:03:49.029220Z"
    }
   },
   "cell_type": "code",
   "source": [
    "TRAIN_PATH = \"/home/awail/PycharmProjects/kaggle/RoadAccident/train.csv\"\n",
    "TEST_PATH  = \"/home/awail/PycharmProjects/kaggle/RoadAccident/train.csv\"\n",
    "OUTPUT_PATH = \"/home/awail/PycharmProjects/kaggle/RoadAccident/submission4.csv\"\n",
    "RANDOM_STATE = 42"
   ],
   "id": "6611dbb891c2ead",
   "outputs": [],
   "execution_count": 28
  },
  {
   "metadata": {
    "ExecuteTime": {
     "end_time": "2025-10-19T19:03:49.703096Z",
     "start_time": "2025-10-19T19:03:49.076681Z"
    }
   },
   "cell_type": "code",
   "source": [
    "df = pd.read_csv(TRAIN_PATH)\n",
    "if \"id\" in df.columns:\n",
    "    df = df.drop(\"id\", axis=1)"
   ],
   "id": "3c2fa3337dd1ee6",
   "outputs": [],
   "execution_count": 29
  },
  {
   "metadata": {
    "ExecuteTime": {
     "end_time": "2025-10-19T19:03:49.975392Z",
     "start_time": "2025-10-19T19:03:49.707975Z"
    }
   },
   "cell_type": "code",
   "source": [
    "df[\"speed_limit_curvature\"] = df[\"speed_limit\"] * df[\"curvature\"]\n",
    "df[\"speed_limit_num_lanes\"] = df[\"speed_limit\"] * df[\"num_lanes\"]\n",
    "df[\"curvature_num_lanes\"] = df[\"curvature\"] * df[\"num_lanes\"]\n",
    "\n",
    "# lighting-weather textual combo (kept as categorical)\n",
    "df[\"lighting_weather\"] = df[\"lighting\"].astype(str) + \"_\" + df[\"weather\"].astype(str)\n",
    "\n",
    "# numeric-coded lighting / weather for numeric interactions\n",
    "df[\"lighting_numeric\"] = df[\"lighting\"].astype(\"category\").cat.codes\n",
    "df[\"weather_numeric\"] = df[\"weather\"].astype(\"category\").cat.codes\n",
    "\n",
    "# interactions discovered earlier\n",
    "df[\"curvature_x_speed_limit\"] = df[\"curvature\"] * df[\"speed_limit\"]\n",
    "df[\"curvature_x_speed_limit_x_lighting\"] = df[\"curvature\"] * df[\"speed_limit\"] * df[\"lighting_numeric\"]\n",
    "df[\"curvature_x_lighting\"] = df[\"curvature\"] * df[\"lighting_numeric\"]\n",
    "df[\"num_lanes_x_curvature_x_speed_limit\"] = df[\"num_lanes\"] * df[\"curvature\"] * df[\"speed_limit\"]\n",
    "df[\"curvature_x_speed_limit_x_num_reported_accidents\"] = df[\"curvature\"] * df[\"speed_limit\"] * df[\"num_reported_accidents\"]\n",
    "df[\"speed_limit_x_lighting\"] = df[\"speed_limit\"] * df[\"lighting_numeric\"]\n",
    "df[\"curvature_x_speed_limit_x_weather\"] = df[\"curvature\"] * df[\"speed_limit\"] * df[\"weather_numeric\"]\n",
    "df[\"curvature_x_lighting_x_holiday\"] = df[\"curvature\"] * df[\"lighting_numeric\"] * df[\"holiday\"].astype(int)\n",
    "df[\"speed_limit_x_weather_foggy\"] = np.where(df[\"weather\"].str.lower() == \"foggy\", df[\"speed_limit\"], 0)\n",
    "\n",
    "# temporal combined feature\n",
    "df[\"school_time_holiday\"] = (df[\"school_season\"].astype(int) *\n",
    "                             df[\"time_of_day\"].astype(\"category\").cat.codes *\n",
    "                             df[\"holiday\"].astype(int))\n"
   ],
   "id": "b1a6c23d8ac612ad",
   "outputs": [],
   "execution_count": 30
  },
  {
   "metadata": {
    "ExecuteTime": {
     "end_time": "2025-10-19T19:03:50.149142Z",
     "start_time": "2025-10-19T19:03:49.980619Z"
    }
   },
   "cell_type": "code",
   "source": [
    "y = df[\"accident_risk\"].values\n",
    "X = df.drop(\"accident_risk\", axis=1)\n",
    "\n",
    "# identify categories / numerics\n",
    "cat_cols = X.select_dtypes(include=[\"object\", \"bool\", \"category\"]).columns.tolist()\n",
    "num_cols = X.select_dtypes(include=[\"float64\", \"int64\"]).columns.tolist()\n",
    "\n",
    "print(f\"Numeric columns count: {len(num_cols)}; Categorical columns count: {len(cat_cols)}\")\n"
   ],
   "id": "279e985ae9de79be",
   "outputs": [
    {
     "name": "stdout",
     "output_type": "stream",
     "text": [
      "Numeric columns count: 17; Categorical columns count: 9\n"
     ]
    }
   ],
   "execution_count": 31
  },
  {
   "metadata": {
    "ExecuteTime": {
     "end_time": "2025-10-19T19:03:50.698896Z",
     "start_time": "2025-10-19T19:03:50.156149Z"
    }
   },
   "cell_type": "code",
   "source": [
    "\n",
    "# Example\n",
    "num_cols = [\"speed_limit\", \"curvature\", \"num_lanes\", \"num_reported_accidents\"]\n",
    "cat_cols = [\"lighting\", \"weather\", \"time_of_day\", \"road_type\", \"holiday\", \"school_season\"]\n",
    "\n",
    "preprocessor = ColumnTransformer([\n",
    "    (\"num\", StandardScaler(), num_cols),\n",
    "    (\"cat\", OneHotEncoder(handle_unknown=\"ignore\", sparse_output=False), cat_cols)\n",
    "], remainder=\"drop\")\n",
    "\n",
    "X_processed = preprocessor.fit_transform(X)\n"
   ],
   "id": "8308f2eac4dcee7",
   "outputs": [],
   "execution_count": 32
  },
  {
   "metadata": {
    "ExecuteTime": {
     "end_time": "2025-10-19T19:03:50.773177Z",
     "start_time": "2025-10-19T19:03:50.703386Z"
    }
   },
   "cell_type": "code",
   "source": [
    "X_train_np, X_val_np, y_train_np, y_val_np = train_test_split(\n",
    "    X_processed, y, test_size=0.2, random_state=RANDOM_STATE\n",
    ")\n"
   ],
   "id": "421de3f743b09603",
   "outputs": [],
   "execution_count": 33
  },
  {
   "metadata": {
    "ExecuteTime": {
     "end_time": "2025-10-19T18:16:50.130596Z",
     "start_time": "2025-10-19T18:16:50.116593Z"
    }
   },
   "cell_type": "code",
   "source": [
    "device = torch.device(\"cuda\" if torch.cuda.is_available() else \"cpu\")\n",
    "print(\"Using device:\", device)\n",
    "\n",
    "X_train = torch.tensor(X_train_np, dtype=torch.float32, device=device)\n",
    "y_train = torch.tensor(y_train_np, dtype=torch.float32, device=device).view(-1, 1)\n",
    "X_val = torch.tensor(X_val_np, dtype=torch.float32, device=device)\n",
    "y_val = torch.tensor(y_val_np, dtype=torch.float32, device=device).view(-1, 1)\n",
    "\n",
    "print(f\"X_train shape (tensor): {X_train.shape}, y_train shape: {y_train.shape}\")\n"
   ],
   "id": "b92189dcb04909a2",
   "outputs": [
    {
     "name": "stdout",
     "output_type": "stream",
     "text": [
      "Using device: cpu\n",
      "X_train shape (tensor): torch.Size([414203, 20]), y_train shape: torch.Size([414203, 1])\n"
     ]
    }
   ],
   "execution_count": 11
  },
  {
   "metadata": {
    "ExecuteTime": {
     "end_time": "2025-10-19T18:35:23.678356Z",
     "start_time": "2025-10-19T18:35:23.673742Z"
    }
   },
   "cell_type": "code",
   "source": [
    "class AccidentRiskModel(nn.Module):\n",
    "    def __init__(self, input_dim):\n",
    "        super().__init__()\n",
    "        self.network = nn.Sequential(\n",
    "            nn.Linear(input_dim, 512),\n",
    "            nn.ReLU(),\n",
    "            nn.Dropout(0.1),\n",
    "            nn.Linear(512, 256),\n",
    "            nn.ReLU(),\n",
    "            nn.Dropout(0.1),\n",
    "            nn.Linear(256, 128),\n",
    "            nn.ReLU(),\n",
    "            nn.Linear(128, 64),\n",
    "            nn.ReLU(),\n",
    "            nn.Linear(64, 1)\n",
    "        )\n",
    "    def forward(self, x):\n",
    "        return self.network(x)\n",
    "\n",
    "input_dim = X_train.shape[1]\n",
    "model = AccidentRiskModel(input_dim).to(device)\n",
    "\n",
    "# choose optimizer / loss (adjusted to reduce over-regularization)\n",
    "criterion = nn.MSELoss()\n",
    "optimizer = torch.optim.Adam(model.parameters(), lr=1e-5, weight_decay=1e-5)\n"
   ],
   "id": "94d7ced1bbbfc514",
   "outputs": [],
   "execution_count": 25
  },
  {
   "metadata": {
    "ExecuteTime": {
     "end_time": "2025-10-19T18:44:33.645751Z",
     "start_time": "2025-10-19T18:35:25.751879Z"
    }
   },
   "cell_type": "code",
   "source": [
    "num_epochs = 100\n",
    "batch_size = 1024\n",
    "train_rmse, val_rmse = [], []\n",
    "\n",
    "for epoch in range(1, num_epochs + 1):\n",
    "    model.train()\n",
    "\n",
    "    # shuffle indices on GPU (no CPU <-> GPU copies)\n",
    "    perm = torch.randperm(X_train.size(0), device=device)\n",
    "    X_train = X_train[perm]\n",
    "    y_train = y_train[perm]\n",
    "\n",
    "    total_loss = 0.0\n",
    "    n_samples = X_train.size(0)\n",
    "\n",
    "    for i in range(0, n_samples, batch_size):\n",
    "        X_batch = X_train[i:i+batch_size]\n",
    "        y_batch = y_train[i:i+batch_size]\n",
    "\n",
    "        optimizer.zero_grad()\n",
    "        preds = model(X_batch)\n",
    "        loss = criterion(preds, y_batch)\n",
    "        loss.backward()\n",
    "        optimizer.step()\n",
    "\n",
    "        total_loss += loss.item() * X_batch.size(0)\n",
    "\n",
    "    epoch_train_rmse = np.sqrt(total_loss / n_samples)\n",
    "\n",
    "    # validation\n",
    "    model.eval()\n",
    "    with torch.no_grad():\n",
    "        val_preds = model(X_val)\n",
    "        val_loss = criterion(val_preds, y_val).item()\n",
    "        epoch_val_rmse = np.sqrt(val_loss)\n",
    "\n",
    "    train_rmse.append(epoch_train_rmse)\n",
    "    val_rmse.append(epoch_val_rmse)\n",
    "\n",
    "    if epoch % 5 == 0 or epoch == 1:\n",
    "        print(f\"Epoch {epoch}/{num_epochs} — Train RMSE: {epoch_train_rmse:.4f} | Val RMSE: {epoch_val_rmse:.4f}\")\n",
    "\n"
   ],
   "id": "94dc2ddd85afb7d",
   "outputs": [
    {
     "name": "stdout",
     "output_type": "stream",
     "text": [
      "Epoch 1/100 — Train RMSE: 0.2592 | Val RMSE: 0.1277\n",
      "Epoch 5/100 — Train RMSE: 0.0734 | Val RMSE: 0.0689\n",
      "Epoch 10/100 — Train RMSE: 0.0685 | Val RMSE: 0.0642\n",
      "Epoch 15/100 — Train RMSE: 0.0630 | Val RMSE: 0.0595\n",
      "Epoch 20/100 — Train RMSE: 0.0612 | Val RMSE: 0.0588\n",
      "Epoch 25/100 — Train RMSE: 0.0602 | Val RMSE: 0.0584\n",
      "Epoch 30/100 — Train RMSE: 0.0596 | Val RMSE: 0.0580\n",
      "Epoch 35/100 — Train RMSE: 0.0590 | Val RMSE: 0.0579\n",
      "Epoch 40/100 — Train RMSE: 0.0587 | Val RMSE: 0.0579\n",
      "Epoch 45/100 — Train RMSE: 0.0584 | Val RMSE: 0.0579\n",
      "Epoch 50/100 — Train RMSE: 0.0582 | Val RMSE: 0.0581\n",
      "Epoch 55/100 — Train RMSE: 0.0580 | Val RMSE: 0.0577\n",
      "Epoch 60/100 — Train RMSE: 0.0579 | Val RMSE: 0.0580\n",
      "Epoch 65/100 — Train RMSE: 0.0578 | Val RMSE: 0.0576\n",
      "Epoch 70/100 — Train RMSE: 0.0577 | Val RMSE: 0.0575\n",
      "Epoch 75/100 — Train RMSE: 0.0576 | Val RMSE: 0.0576\n",
      "Epoch 80/100 — Train RMSE: 0.0576 | Val RMSE: 0.0577\n",
      "Epoch 85/100 — Train RMSE: 0.0575 | Val RMSE: 0.0577\n",
      "Epoch 90/100 — Train RMSE: 0.0574 | Val RMSE: 0.0573\n",
      "Epoch 95/100 — Train RMSE: 0.0574 | Val RMSE: 0.0573\n",
      "Epoch 100/100 — Train RMSE: 0.0573 | Val RMSE: 0.0574\n"
     ]
    }
   ],
   "execution_count": 26
  },
  {
   "metadata": {
    "ExecuteTime": {
     "end_time": "2025-10-19T18:25:38.958514Z",
     "start_time": "2025-10-19T18:25:38.854269Z"
    }
   },
   "cell_type": "code",
   "source": [
    "plt.figure(figsize=(8,5))\n",
    "plt.plot(train_rmse, label=\"Train RMSE\")\n",
    "plt.plot(val_rmse, label=\"Val RMSE\")\n",
    "plt.xlabel(\"Epoch\")\n",
    "plt.ylabel(\"RMSE\")\n",
    "plt.legend()\n",
    "plt.grid(True)\n",
    "plt.show()"
   ],
   "id": "9758703737052cb7",
   "outputs": [
    {
     "data": {
      "text/plain": [
       "<Figure size 800x500 with 1 Axes>"
      ],
      "image/png": "[encoded data removed]"
     },
     "metadata": {},
     "output_type": "display_data",
     "jetTransient": {
      "display_id": null
     }
    }
   ],
   "execution_count": 14
  },
  {
   "metadata": {
    "ExecuteTime": {
     "end_time": "2025-10-19T18:25:46.759536Z",
     "start_time": "2025-10-19T18:25:46.754299Z"
    }
   },
   "cell_type": "code",
   "source": [
    "torch.save(model.state_dict(), \"neural_perm.ipynb\")\n",
    "print(\"Saved model: accident_risk_model_gpu_fixed.pth\")\n"
   ],
   "id": "9da34828b003ebcf",
   "outputs": [
    {
     "name": "stdout",
     "output_type": "stream",
     "text": [
      "Saved model: accident_risk_model_gpu_fixed.pth\n"
     ]
    }
   ],
   "execution_count": 15
  },
  {
   "metadata": {
    "ExecuteTime": {
     "end_time": "2025-10-19T18:34:36.388937Z",
     "start_time": "2025-10-19T18:34:36.212664Z"
    }
   },
   "cell_type": "code",
   "source": [
    "# -----------------------\n",
    "# 11. prepare test set (apply exactly same engineered features + preprocessor)\n",
    "# -----------------------\n",
    "test_df = pd.read_csv(\"/home/awail/PycharmProjects/kaggle/RoadAccident/test.csv\")\n",
    "test_ids = test_df[\"id\"].values if \"id\" in test_df.columns else np.arange(len(test_df))\n",
    "\n",
    "# same engineered features on test set:\n",
    "test_df[\"speed_limit_curvature\"] = test_df[\"speed_limit\"] * test_df[\"curvature\"]\n",
    "test_df[\"speed_limit_num_lanes\"] = test_df[\"speed_limit\"] * test_df[\"num_lanes\"]\n",
    "test_df[\"curvature_num_lanes\"] = test_df[\"curvature\"] * test_df[\"num_lanes\"]\n",
    "test_df[\"lighting_weather\"] = test_df[\"lighting\"].astype(str) + \"_\" + test_df[\"weather\"].astype(str)\n",
    "test_df[\"lighting_numeric\"] = test_df[\"lighting\"].astype(\"category\").cat.codes\n",
    "test_df[\"weather_numeric\"] = test_df[\"weather\"].astype(\"category\").cat.codes\n",
    "\n",
    "test_df[\"curvature_x_speed_limit\"] = test_df[\"curvature\"] * test_df[\"speed_limit\"]\n",
    "test_df[\"curvature_x_speed_limit_x_lighting\"] = test_df[\"curvature\"] * test_df[\"speed_limit\"] * test_df[\"lighting\"].astype(\"category\").cat.codes\n",
    "test_df[\"curvature_x_lighting\"] = test_df[\"curvature\"] * test_df[\"lighting\"].astype(\"category\").cat.codes\n",
    "test_df[\"num_lanes_x_curvature_x_speed_limit\"] = test_df[\"num_lanes\"] * test_df[\"curvature\"] * test_df[\"speed_limit\"]\n",
    "test_df[\"curvature_x_speed_limit_x_num_reported_accidents\"] = test_df[\"curvature\"] * test_df[\"speed_limit\"] * test_df[\"num_reported_accidents\"]\n",
    "test_df[\"speed_limit_x_lighting\"] = test_df[\"speed_limit\"] * test_df[\"lighting\"].astype(\"category\").cat.codes\n",
    "test_df[\"curvature_x_speed_limit_x_weather\"] = test_df[\"curvature\"] * test_df[\"speed_limit\"] * test_df[\"weather\"].astype(\"category\").cat.codes\n",
    "test_df[\"curvature_x_lighting_x_holiday\"] = test_df[\"curvature\"] * test_df[\"lighting\"].astype(\"category\").cat.codes * test_df[\"holiday\"].astype(int)\n",
    "test_df[\"speed_limit_x_weather_foggy\"] = np.where(test_df[\"weather\"].str.lower() == \"foggy\", test_df[\"speed_limit\"], 0)\n",
    "test_df[\"school_time_holiday\"] = (test_df[\"school_season\"].astype(int) * test_df[\"time_of_day\"].astype(\"category\").cat.codes * test_df[\"holiday\"].astype(int))\n",
    "\n",
    "#"
   ],
   "id": "afc08ca697183fe2",
   "outputs": [],
   "execution_count": 23
  },
  {
   "metadata": {
    "ExecuteTime": {
     "end_time": "2025-10-19T18:34:37.616769Z",
     "start_time": "2025-10-19T18:34:36.882658Z"
    }
   },
   "cell_type": "code",
   "source": [
    "\n",
    "# (Feature engineering as before...)\n",
    "\n",
    "# --- Transform and predict ---\n",
    "X_test = preprocessor.transform(test_df)\n",
    "X_test = torch.tensor(X_test, dtype=torch.float32, device=device)\n",
    "\n",
    "model.eval()\n",
    "with torch.no_grad():\n",
    "    preds = model(X_test).cpu().numpy().flatten()\n",
    "\n",
    "# ✅ Match Kaggle sample submission format\n",
    "submission = pd.DataFrame({\n",
    "    \"id\": test_df[\"id\"],             # keep same order\n",
    "    \"accident_risk\": preds           # use correct column name\n",
    "})\n",
    "\n",
    "# --- 💾 Save to correct location ---\n",
    "output_path = \"/home/awail/PycharmProjects/kaggle/RoadAccident/submission5.csv\"\n",
    "submission.to_csv(output_path, index=False)\n",
    "print(f\"✅ Submission saved to {output_path}\")\n",
    "print(f\"📊 Submission shape: {submission.shape}\")\n"
   ],
   "id": "bdcff005647f1c49",
   "outputs": [
    {
     "name": "stdout",
     "output_type": "stream",
     "text": [
      "✅ Submission saved to /home/awail/PycharmProjects/kaggle/RoadAccident/submission5.csv\n",
      "📊 Submission shape: (172585, 2)\n"
     ]
    }
   ],
   "execution_count": 24
  },
  {
   "metadata": {},
   "cell_type": "code",
   "outputs": [],
   "execution_count": null,
   "source": "",
   "id": "a5a65c020fd8a051"
  }
 ],
 "metadata": {
  "kernelspec": {
   "display_name": "Python 3",
   "language": "python",
   "name": "python3"
  },
  "language_info": {
   "codemirror_mode": {
    "name": "ipython",
    "version": 2
   },
   "file_extension": ".py",
   "mimetype": "text/x-python",
   "name": "python",
   "nbconvert_exporter": "python",
   "pygments_lexer": "ipython2",
   "version": "2.7.6"
  }
 },
 "nbformat": 4,
 "nbformat_minor": 5
}
